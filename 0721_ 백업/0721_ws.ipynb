{
 "cells": [
  {
   "cell_type": "markdown",
   "metadata": {},
   "source": [
    "1번"
   ]
  },
  {
   "cell_type": "code",
   "execution_count": 12,
   "metadata": {},
   "outputs": [
    {
     "name": "stdout",
     "output_type": "stream",
     "text": [
      "[1, 2, 5, 10]\n"
     ]
    }
   ],
   "source": [
    "N = int(input())\n",
    "\n",
    "a_list= []\n",
    "\n",
    "def a(n) :\n",
    "    for i in range(1, n+1):\n",
    "        if(n%i==0):\n",
    "            a_list.append(i)\n",
    "    return a_list\n",
    "\n",
    "print(a(N))\n",
    "\n",
    "\n",
    "\n"
   ]
  },
  {
   "cell_type": "markdown",
   "metadata": {},
   "source": [
    "2번\n",
    "\n",
    "\n",
    "\n"
   ]
  },
  {
   "cell_type": "code",
   "execution_count": 16,
   "metadata": {},
   "outputs": [
    {
     "name": "stdout",
     "output_type": "stream",
     "text": [
      "15\n"
     ]
    }
   ],
   "source": [
    "list_sum = [1,2,3,4,5]\n",
    "\n",
    "def a(x):\n",
    "    b = 0\n",
    "    for a in x:\n",
    "        b += a\n",
    "    return b\n",
    "\n",
    "print(a(list_sum))\n"
   ]
  },
  {
   "cell_type": "markdown",
   "metadata": {},
   "source": [
    "3번"
   ]
  }
 ],
 "metadata": {
  "kernelspec": {
   "display_name": "Python 3.9.13 64-bit",
   "language": "python",
   "name": "python3"
  },
  "language_info": {
   "codemirror_mode": {
    "name": "ipython",
    "version": 3
   },
   "file_extension": ".py",
   "mimetype": "text/x-python",
   "name": "python",
   "nbconvert_exporter": "python",
   "pygments_lexer": "ipython3",
   "version": "3.9.13"
  },
  "orig_nbformat": 4,
  "vscode": {
   "interpreter": {
    "hash": "95803e32f357a23bafef5f3d788ee6f662ae90faa6e83479a3c2dd24445937f6"
   }
  }
 },
 "nbformat": 4,
 "nbformat_minor": 2
}
