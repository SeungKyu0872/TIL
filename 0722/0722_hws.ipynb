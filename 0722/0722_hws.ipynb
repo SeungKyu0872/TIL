{
 "cells": [
  {
   "cell_type": "markdown",
   "metadata": {},
   "source": [
    "\n",
    "## 1.간단한 N의 약수 (SWEA  # 1933)\n",
    "\n",
    "입력으로 1개의 정수N이 주어진다. 정수 N의 약수를 오름차순으로 출력하는 프로그램을 작성하시오."
   ]
  },
  {
   "cell_type": "code",
   "execution_count": 20,
   "metadata": {},
   "outputs": [
    {
     "name": "stdout",
     "output_type": "stream",
     "text": [
      "1 2 5 10 "
     ]
    }
   ],
   "source": [
    "N = int(input())\n",
    "\n",
    "# 반복문을 통해 1부터 N까지 순회하면서 N을 나누어서 나머지가 0이면 출력\n",
    "\n",
    "for i in range(1, N+1 ):\n",
    "    if N % i == 0:\n",
    "        print(i, end=' ' )"
   ]
  },
  {
   "cell_type": "markdown",
   "metadata": {},
   "source": [
    "## 2. List의 합 구하기\n",
    "\n",
    "정수로만 이루어진 list를 전달 받아 해당 리스트의 모든 요소들의 합을 built-in함수 sum()을 사용하지 않고 list_sum이라는 이름을 가진 함수로 작성하시오.\n"
   ]
  },
  {
   "cell_type": "code",
   "execution_count": 21,
   "metadata": {},
   "outputs": [
    {
     "name": "stdout",
     "output_type": "stream",
     "text": [
      "21\n"
     ]
    }
   ],
   "source": [
    "\n",
    "def list_sum(numbers): #numbers는 정수로만 이루어진 list이다.\n",
    "    #리스트안의 요소들의 합을 저장할 변수를 선언\n",
    "    sum_value = 0\n",
    "    # numbers리스트를 순회하면서 누적 합을 저장\n",
    "    for number in numbers:\n",
    "        sum_value += number\n",
    "    return sum_value\n",
    "\n",
    "print(list_sum([1,2,3,4,5,6]))"
   ]
  },
  {
   "cell_type": "markdown",
   "metadata": {},
   "source": [
    "## 3. Dictionary로 이루어진 List의 합 구하기\n",
    "\n",
    "Dictionary 로 이루어진 list를 전달받아 모든 Dictionary의 \"age\" key에 해당하는 value들의 합을 반환하는\n",
    "dic_lisst_sum 함수를 built-in 함수인 sum()을 사용하지 않고 작성하시오.\n",
    " "
   ]
  },
  {
   "cell_type": "code",
   "execution_count": 22,
   "metadata": {},
   "outputs": [
    {
     "name": "stdout",
     "output_type": "stream",
     "text": [
      "18\n"
     ]
    }
   ],
   "source": [
    "my_dict_list = [{'name': 'kim' , 'age' : 12},{'name':'lee','age': 6}]\n",
    "\n",
    "def dict_list_sum(infos) : # infos라는 파라미터는 dictionary 로 이루어진 list이다.\n",
    "    age_sum = 0 # 'age' key에 해당하는 value들의 총 합을 저장할 변수\n",
    "    for info in infos: #infos는 리스트 ,info는 딕셔너리\n",
    "        age_sum += info['age']\n",
    "    return age_sum\n",
    "\n",
    "print(dict_list_sum(my_dict_list))"
   ]
  },
  {
   "cell_type": "markdown",
   "metadata": {},
   "source": [
    "##  4. 2차원 List의 전체 합 구하기\n",
    "\n",
    "정수로만 이루어진 2차원 list를 전달받아 해당 list의 모든 요소들의합을 반환하는 all_list_sum함수를 빌트인 함수인 썸 함수를 사용하지 않고 작성하시오.\n"
   ]
  },
  {
   "cell_type": "code",
   "execution_count": 23,
   "metadata": {},
   "outputs": [
    {
     "name": "stdout",
     "output_type": "stream",
     "text": [
      "55\n"
     ]
    }
   ],
   "source": [
    "my_list = [[1],[2,3],[4,5,6],[7,8,9,10]]\n",
    "\n",
    "def all_list_sum(num_lists) : # num_list 는 2차원 리스트이다.\n",
    "    lists_sum = 0 # 2차원 리스트의 요소들의 합을 저장할 변수\n",
    "    for num_list in num_lists: # num_list는 2차원 리스트이고 num_list는 그 안에 있는 리스트 하나\n",
    "        # num_list의 합을 구하기\n",
    "        for num in num_list: #num_list는 1차원 리스트이고 num은 그 안에 있는 숫자 하나\n",
    "            lists_sum += num  #누적합 구하기\n",
    "    return lists_sum\n",
    "\n",
    "print(all_list_sum(my_list))"
   ]
  },
  {
   "cell_type": "markdown",
   "metadata": {},
   "source": [
    "## 5. 숫자의 의미\n",
    "\n",
    "정수로 이루어진 list를 전달받아, 각 정수에 해당하는 아스키 문자를 이어붙인 문자열을 반환하는  \n",
    "get_secret_word 함수를 작성하시오. 단, list는 65이상 90이하, 97이상 122 이하의 정수로만 구성되어 있다.\n",
    "(아스키 코드의 알파벳 대문자, 소문자)\n",
    "\n"
   ]
  },
  {
   "cell_type": "code",
   "execution_count": 24,
   "metadata": {},
   "outputs": [
    {
     "name": "stdout",
     "output_type": "stream",
     "text": [
      "SsAfY\n"
     ]
    }
   ],
   "source": [
    "my_numbers = [83,115,65,102,89] # SsAfY\n",
    "\n",
    "\n",
    "def get_secret_word(numbers): #numbers는 정수로 이루어진 리스트이다.\n",
    "    word = \"\" #numbers  안에있는 숫자들을 대응하는 알파벳으로 바꾼후 이어붙일 문자열\n",
    "    for number  in numbers:\n",
    "        #number 를 알파벳으로 전환\n",
    "        word += chr(number) # chr(number) ==> number 에 대응하는 아스키코드를 가진 알파벳반환\n",
    "    return word\n",
    "\n",
    "print(get_secret_word(my_numbers))\n"
   ]
  },
  {
   "cell_type": "markdown",
   "metadata": {},
   "source": [
    "## 6. 내 이름은 몇일까?\n",
    "\n",
    "문자열을 전달 받아 해당 문자열의 각 문자에 대응되는 아스키 숫자들의 합을 반환하는  \n",
    "get_secret_number 함수를 작성하시오. 단 문자열은 A~Z , a~z로만 구성되어 있다.\n"
   ]
  },
  {
   "cell_type": "code",
   "execution_count": 25,
   "metadata": {},
   "outputs": [
    {
     "name": "stdout",
     "output_type": "stream",
     "text": [
      "546\n"
     ]
    }
   ],
   "source": [
    "def get_secret_number(word): #word는 문자열\n",
    "    total = 0 # word의 단어 하나하나를 숫자로 바꾼 후에 그 합을 저장할 변수\n",
    "    for char in word : #문자열 word를 문자 하나하나로 쪼갠 char// 'happy' ==> 'h','a','p','p','y'\n",
    "        #word를 숫자호 전환\n",
    "        total += ord(char) #ord(char)주어진 문자열 char를 아스키코드로 바꿔주는 함수\n",
    "    return total\n",
    "\n",
    "print(get_secret_number('happy'))\n",
    "\n"
   ]
  },
  {
   "cell_type": "markdown",
   "metadata": {},
   "source": [
    "## 7. 강한 이름\n",
    "\n",
    "문자열 2개를 전달 받아 두 문자열의 각 문자에 대응되는 아스키 숫자들의 합을  비교해서 더 큰 합을 가진 문자열을  \n",
    "반환하는 get_strong_word함수를 작성하시오.\n"
   ]
  },
  {
   "cell_type": "code",
   "execution_count": 26,
   "metadata": {},
   "outputs": [
    {
     "name": "stdout",
     "output_type": "stream",
     "text": [
      "delilah\n"
     ]
    }
   ],
   "source": [
    "def get_strong_word(word1, word2):\n",
    "    #word1 의 아스키숫자의 합을 저장할 변수\n",
    "    word1_total = 0\n",
    "    #word2 의 아스키숫자의 합을 저장할 변수\n",
    "    word2_total = 0\n",
    "\n",
    "    # word1의 아스키숫자 합 구하기\n",
    "    for char in  word1:\n",
    "        word1_total += ord(char)\n",
    "\n",
    "    # word2의 아스키숫자 합 구하기\n",
    "    for char in word2:\n",
    "        word2_total += ord(char)\n",
    "\n",
    "    #값 비교해서 결과 반환\n",
    "    if word1_total > word2_total:\n",
    "        return word1\n",
    "    elif word2_total > word1_total:\n",
    "        return word2\n",
    "    else:\n",
    "        return word1 ,word2\n",
    "\n",
    "print(get_strong_word('delilah','delila')) \n",
    "    "
   ]
  },
  {
   "cell_type": "markdown",
   "metadata": {},
   "source": [
    "## 데일리과제 4-4. 문자열 애너그램 예제 "
   ]
  }
 ],
 "metadata": {
  "kernelspec": {
   "display_name": "Python 3.9.13 64-bit",
   "language": "python",
   "name": "python3"
  },
  "language_info": {
   "codemirror_mode": {
    "name": "ipython",
    "version": 3
   },
   "file_extension": ".py",
   "mimetype": "text/x-python",
   "name": "python",
   "nbconvert_exporter": "python",
   "pygments_lexer": "ipython3",
   "version": "3.9.13"
  },
  "orig_nbformat": 4,
  "vscode": {
   "interpreter": {
    "hash": "95803e32f357a23bafef5f3d788ee6f662ae90faa6e83479a3c2dd24445937f6"
   }
  }
 },
 "nbformat": 4,
 "nbformat_minor": 2
}
